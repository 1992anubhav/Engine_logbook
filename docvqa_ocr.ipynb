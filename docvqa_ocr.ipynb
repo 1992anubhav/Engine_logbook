{
 "cells": [
  {
   "cell_type": "code",
   "execution_count": null,
   "metadata": {},
   "outputs": [],
   "source": [
    "# llama\n",
    "\n",
    "import os\n",
    "import base64\n",
    "from azure.ai.inference import ChatCompletionsClient\n",
    "from azure.core.credentials import AzureKeyCredential\n",
    "\n",
    "client_l = ChatCompletionsClient(\n",
    "    endpoint=\"\",\n",
    "    credential=AzureKeyCredential(\"\"),\n",
    ")"
   ]
  },
  {
   "cell_type": "code",
   "execution_count": 27,
   "metadata": {},
   "outputs": [],
   "source": [
    "# Function to read and encode image in base64\n",
    "def encode_image_to_base64(image_path):\n",
    "    with open(image_path, \"rb\") as image_file:\n",
    "        return base64.b64encode(image_file.read()).decode('utf-8')"
   ]
  },
  {
   "cell_type": "code",
   "execution_count": 29,
   "metadata": {},
   "outputs": [
    {
     "name": "stdout",
     "output_type": "stream",
     "text": [
      "The RMA number in the image is 7915 7585 8183.\n"
     ]
    }
   ],
   "source": [
    "response = client_l.complete(\n",
    "  # model=deployment_name,\n",
    "  messages=[\n",
    "    {\n",
    "      \"role\": \"system\",\n",
    "      \"content\": \"You are a helpful assistant.\"\n",
    "    },\n",
    "    {\n",
    "      \"role\": \"user\",\n",
    "      \"content\": [\n",
    "        {\n",
    "          \"type\": \"text\",\n",
    "          \"text\": ''' Extract out the RMA number from the image''',\n",
    "        },\n",
    "        {\n",
    "                    \"type\": \"image_url\",\n",
    "                    \"image_url\": {\n",
    "                        \"url\": f\"data:image/jpeg;base64,{encode_image_to_base64('IMG_4592.JPG')}\",\n",
    "                    }\n",
    "        },\n",
    "        \n",
    "        \n",
    "      ],\n",
    "    }\n",
    "  ],\n",
    "  max_tokens=500,\n",
    "  temperature=1\n",
    ")\n",
    "\n",
    "print(response.choices[0].message.content)"
   ]
  },
  {
   "cell_type": "code",
   "execution_count": null,
   "metadata": {},
   "outputs": [],
   "source": []
  },
  {
   "cell_type": "code",
   "execution_count": 31,
   "metadata": {},
   "outputs": [],
   "source": [
    "def parse_json(json_output):\n",
    "    # Parsing out the markdown fencing\n",
    "    lines = json_output.splitlines()\n",
    "    for i, line in enumerate(lines):\n",
    "        if line == \"```json\":\n",
    "            json_output = \"\\n\".join(lines[i+1:])  # Remove everything before \"```json\"\n",
    "            json_output = json_output.split(\"```\")[0]  # Remove everything after the closing \"```\"\n",
    "            break  # Exit the loop once \"```json\" is found\n",
    "    return json_output"
   ]
  },
  {
   "cell_type": "code",
   "execution_count": null,
   "metadata": {},
   "outputs": [],
   "source": [
    "def encode_image(image_path):\n",
    "    with open(image_path, \"rb\") as image_file:\n",
    "        return base64.b64encode(image_file.read()).decode(\"utf-8\")\n",
    "\n",
    "\n",
    "def inference_with_api(image_path, prompt, sys_prompt=\"You are a helpful assistant.\"):\n",
    "    base64_image = encode_image(image_path)\n",
    "\n",
    "    # client = OpenAI(\n",
    "    #     #If the environment variable is not configured, please replace the following line with the Dashscope API Key: api_key=\"sk-xxx\". Access via https://bailian.console.alibabacloud.com/?apiKey=1 \"\n",
    "    #     api_key=os.getenv('DASHSCOPE_API_KEY'),\n",
    "    #     base_url=\"https://dashscope-intl.aliyuncs.com/compatible-mode/v1\",\n",
    "    # )\n",
    "\n",
    "    client_l = ChatCompletionsClient(\n",
    "    endpoint=\"\",\n",
    "    credential=AzureKeyCredential(\"\"),\n",
    ")\n",
    "\n",
    "\n",
    "    messages=[\n",
    "        {\n",
    "            \"role\": \"system\",\n",
    "            \"content\": [{\"type\":\"text\",\"text\": sys_prompt}]},\n",
    "        {\n",
    "            \"role\": \"user\",\n",
    "            \"content\": [\n",
    "                {\n",
    "                    \"type\": \"image_url\",\n",
    "                    # \"min_pixels\": min_pixels,\n",
    "                    # \"max_pixels\": max_pixels,\n",
    "                    # Pass in BASE64 image data. Note that the image format (i.e., image/{format}) must match the Content Type in the list of supported images. \"f\" is the method for string formatting.\n",
    "                    # PNG image:  f\"data:image/png;base64,{base64_image}\"\n",
    "                    # JPEG image: f\"data:image/jpeg;base64,{base64_image}\"\n",
    "                    # WEBP image: f\"data:image/webp;base64,{base64_image}\"\n",
    "                    \"image_url\": {\"url\": f\"data:image/jpeg;base64,{base64_image}\"},\n",
    "                },\n",
    "                {\"type\": \"text\", \"text\": prompt},\n",
    "            ],\n",
    "        }\n",
    "    ]\n",
    "    completion = client_l.complete(\n",
    "        # model = model_id,\n",
    "        messages = messages,\n",
    "       \n",
    "    )\n",
    "    return completion.choices[0].message.content"
   ]
  },
  {
   "cell_type": "code",
   "execution_count": null,
   "metadata": {},
   "outputs": [],
   "source": []
  }
 ],
 "metadata": {
  "kernelspec": {
   "display_name": "OCR",
   "language": "python",
   "name": "python3"
  },
  "language_info": {
   "codemirror_mode": {
    "name": "ipython",
    "version": 3
   },
   "file_extension": ".py",
   "mimetype": "text/x-python",
   "name": "python",
   "nbconvert_exporter": "python",
   "pygments_lexer": "ipython3",
   "version": "3.10.9"
  }
 },
 "nbformat": 4,
 "nbformat_minor": 2
}
